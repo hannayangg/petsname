{
 "cells": [
  {
   "cell_type": "code",
   "execution_count": 4,
   "id": "b7d718cc-c795-4a43-8adc-b381b1984df5",
   "metadata": {},
   "outputs": [
    {
     "data": {
      "text/html": [
       "\n",
       "<style>\n",
       "    /* Turns off some styling */\n",
       "    progress {\n",
       "        /* gets rid of default border in Firefox and Opera. */\n",
       "        border: none;\n",
       "        /* Needs to be in here for Safari polyfill so background images work as expected. */\n",
       "        background-size: auto;\n",
       "    }\n",
       "    progress:not([value]), progress:not([value])::-webkit-progress-bar {\n",
       "        background: repeating-linear-gradient(45deg, #7e7e7e, #7e7e7e 10px, #5c5c5c 10px, #5c5c5c 20px);\n",
       "    }\n",
       "    .progress-bar-interrupted, .progress-bar-interrupted::-webkit-progress-bar {\n",
       "        background: #F44336;\n",
       "    }\n",
       "</style>\n"
      ],
      "text/plain": [
       "<IPython.core.display.HTML object>"
      ]
     },
     "metadata": {},
     "output_type": "display_data"
    },
    {
     "data": {
      "text/html": [
       "\n",
       "    <div>\n",
       "      <progress value='4931584' class='' max='4924029' style='width:300px; height:20px; vertical-align: middle;'></progress>\n",
       "      100.15% [4931584/4924029 00:00&lt;00:00]\n",
       "    </div>\n",
       "    "
      ],
      "text/plain": [
       "<IPython.core.display.HTML object>"
      ]
     },
     "metadata": {},
     "output_type": "display_data"
    }
   ],
   "source": [
    "from fastai.collab import *\n",
    "from fastai.tabular.all import *\n",
    "path = untar_data(URLs.ML_100k)"
   ]
  },
  {
   "cell_type": "code",
   "execution_count": 80,
   "id": "ec200493-552a-43be-abf1-aa47a9cacdb8",
   "metadata": {},
   "outputs": [
    {
     "data": {
      "text/html": [
       "<div>\n",
       "<style scoped>\n",
       "    .dataframe tbody tr th:only-of-type {\n",
       "        vertical-align: middle;\n",
       "    }\n",
       "\n",
       "    .dataframe tbody tr th {\n",
       "        vertical-align: top;\n",
       "    }\n",
       "\n",
       "    .dataframe thead th {\n",
       "        text-align: right;\n",
       "    }\n",
       "</style>\n",
       "<table border=\"1\" class=\"dataframe\">\n",
       "  <thead>\n",
       "    <tr style=\"text-align: right;\">\n",
       "      <th></th>\n",
       "      <th>user</th>\n",
       "      <th>movie</th>\n",
       "      <th>rating</th>\n",
       "      <th>timestamp</th>\n",
       "    </tr>\n",
       "  </thead>\n",
       "  <tbody>\n",
       "    <tr>\n",
       "      <th>0</th>\n",
       "      <td>196</td>\n",
       "      <td>242</td>\n",
       "      <td>3</td>\n",
       "      <td>881250949</td>\n",
       "    </tr>\n",
       "    <tr>\n",
       "      <th>1</th>\n",
       "      <td>186</td>\n",
       "      <td>302</td>\n",
       "      <td>3</td>\n",
       "      <td>891717742</td>\n",
       "    </tr>\n",
       "    <tr>\n",
       "      <th>2</th>\n",
       "      <td>22</td>\n",
       "      <td>377</td>\n",
       "      <td>1</td>\n",
       "      <td>878887116</td>\n",
       "    </tr>\n",
       "    <tr>\n",
       "      <th>3</th>\n",
       "      <td>244</td>\n",
       "      <td>51</td>\n",
       "      <td>2</td>\n",
       "      <td>880606923</td>\n",
       "    </tr>\n",
       "    <tr>\n",
       "      <th>4</th>\n",
       "      <td>166</td>\n",
       "      <td>346</td>\n",
       "      <td>1</td>\n",
       "      <td>886397596</td>\n",
       "    </tr>\n",
       "  </tbody>\n",
       "</table>\n",
       "</div>"
      ],
      "text/plain": [
       "   user  movie  rating  timestamp\n",
       "0   196    242       3  881250949\n",
       "1   186    302       3  891717742\n",
       "2    22    377       1  878887116\n",
       "3   244     51       2  880606923\n",
       "4   166    346       1  886397596"
      ]
     },
     "execution_count": 80,
     "metadata": {},
     "output_type": "execute_result"
    }
   ],
   "source": [
    "ratings = pd.read_csv(path/'u.data',\n",
    "                     delimiter='\\t',\n",
    "                     header=None,\n",
    "                     names=['user','movie','rating','timestamp'])\n",
    "# 기본 테이블 path/'u.data'\n",
    "\n",
    "ratings.head()"
   ]
  },
  {
   "cell_type": "code",
   "execution_count": 81,
   "id": "248f53c7-9273-4801-a9f7-536f99e5f8e9",
   "metadata": {},
   "outputs": [
    {
     "data": {
      "text/plain": [
       "2.1420000000000003"
      ]
     },
     "execution_count": 81,
     "metadata": {},
     "output_type": "execute_result"
    }
   ],
   "source": [
    "# SF, 액션, 고전\n",
    "user1 = np.array([0.98, 0.9, -0.9])\n",
    "user2 = np.array([0.9, 0.8, -0.6])\n",
    "\n",
    "# user1과 user2의 유사성은 접곰으로 구한다.\n",
    "(user1 * user2).sum()"
   ]
  },
  {
   "cell_type": "code",
   "execution_count": 82,
   "id": "e0b1c0db-eda8-421d-9390-cafe2e8bde5b",
   "metadata": {},
   "outputs": [
    {
     "data": {
      "text/html": [
       "<div>\n",
       "<style scoped>\n",
       "    .dataframe tbody tr th:only-of-type {\n",
       "        vertical-align: middle;\n",
       "    }\n",
       "\n",
       "    .dataframe tbody tr th {\n",
       "        vertical-align: top;\n",
       "    }\n",
       "\n",
       "    .dataframe thead th {\n",
       "        text-align: right;\n",
       "    }\n",
       "</style>\n",
       "<table border=\"1\" class=\"dataframe\">\n",
       "  <thead>\n",
       "    <tr style=\"text-align: right;\">\n",
       "      <th></th>\n",
       "      <th>movie</th>\n",
       "      <th>title</th>\n",
       "    </tr>\n",
       "  </thead>\n",
       "  <tbody>\n",
       "    <tr>\n",
       "      <th>0</th>\n",
       "      <td>1</td>\n",
       "      <td>Toy Story (1995)</td>\n",
       "    </tr>\n",
       "    <tr>\n",
       "      <th>1</th>\n",
       "      <td>2</td>\n",
       "      <td>GoldenEye (1995)</td>\n",
       "    </tr>\n",
       "    <tr>\n",
       "      <th>2</th>\n",
       "      <td>3</td>\n",
       "      <td>Four Rooms (1995)</td>\n",
       "    </tr>\n",
       "    <tr>\n",
       "      <th>3</th>\n",
       "      <td>4</td>\n",
       "      <td>Get Shorty (1995)</td>\n",
       "    </tr>\n",
       "    <tr>\n",
       "      <th>4</th>\n",
       "      <td>5</td>\n",
       "      <td>Copycat (1995)</td>\n",
       "    </tr>\n",
       "  </tbody>\n",
       "</table>\n",
       "</div>"
      ],
      "text/plain": [
       "   movie              title\n",
       "0      1   Toy Story (1995)\n",
       "1      2   GoldenEye (1995)\n",
       "2      3  Four Rooms (1995)\n",
       "3      4  Get Shorty (1995)\n",
       "4      5     Copycat (1995)"
      ]
     },
     "execution_count": 82,
     "metadata": {},
     "output_type": "execute_result"
    }
   ],
   "source": [
    "movies = pd.read_csv(path/'u.item',\n",
    "                     delimiter='|',\n",
    "                     encoding='latin-1',\n",
    "                     usecols=(0,1),\n",
    "                     names=['movie','title'],\n",
    "                     header=None)\n",
    "# 영화 ID에 해당하는 제목 경로 path/'u.item'\n",
    "\n",
    "movies.head()"
   ]
  },
  {
   "cell_type": "code",
   "execution_count": 83,
   "id": "83bc1e55-9ab2-4345-9d25-2a719003ed83",
   "metadata": {},
   "outputs": [
    {
     "data": {
      "text/html": [
       "<div>\n",
       "<style scoped>\n",
       "    .dataframe tbody tr th:only-of-type {\n",
       "        vertical-align: middle;\n",
       "    }\n",
       "\n",
       "    .dataframe tbody tr th {\n",
       "        vertical-align: top;\n",
       "    }\n",
       "\n",
       "    .dataframe thead th {\n",
       "        text-align: right;\n",
       "    }\n",
       "</style>\n",
       "<table border=\"1\" class=\"dataframe\">\n",
       "  <thead>\n",
       "    <tr style=\"text-align: right;\">\n",
       "      <th></th>\n",
       "      <th>user</th>\n",
       "      <th>movie</th>\n",
       "      <th>rating</th>\n",
       "      <th>timestamp</th>\n",
       "      <th>title</th>\n",
       "    </tr>\n",
       "  </thead>\n",
       "  <tbody>\n",
       "    <tr>\n",
       "      <th>0</th>\n",
       "      <td>196</td>\n",
       "      <td>242</td>\n",
       "      <td>3</td>\n",
       "      <td>881250949</td>\n",
       "      <td>Kolya (1996)</td>\n",
       "    </tr>\n",
       "    <tr>\n",
       "      <th>1</th>\n",
       "      <td>63</td>\n",
       "      <td>242</td>\n",
       "      <td>3</td>\n",
       "      <td>875747190</td>\n",
       "      <td>Kolya (1996)</td>\n",
       "    </tr>\n",
       "    <tr>\n",
       "      <th>2</th>\n",
       "      <td>226</td>\n",
       "      <td>242</td>\n",
       "      <td>5</td>\n",
       "      <td>883888671</td>\n",
       "      <td>Kolya (1996)</td>\n",
       "    </tr>\n",
       "    <tr>\n",
       "      <th>3</th>\n",
       "      <td>154</td>\n",
       "      <td>242</td>\n",
       "      <td>3</td>\n",
       "      <td>879138235</td>\n",
       "      <td>Kolya (1996)</td>\n",
       "    </tr>\n",
       "    <tr>\n",
       "      <th>4</th>\n",
       "      <td>306</td>\n",
       "      <td>242</td>\n",
       "      <td>5</td>\n",
       "      <td>876503793</td>\n",
       "      <td>Kolya (1996)</td>\n",
       "    </tr>\n",
       "  </tbody>\n",
       "</table>\n",
       "</div>"
      ],
      "text/plain": [
       "   user  movie  rating  timestamp         title\n",
       "0   196    242       3  881250949  Kolya (1996)\n",
       "1    63    242       3  875747190  Kolya (1996)\n",
       "2   226    242       5  883888671  Kolya (1996)\n",
       "3   154    242       3  879138235  Kolya (1996)\n",
       "4   306    242       5  876503793  Kolya (1996)"
      ]
     },
     "execution_count": 83,
     "metadata": {},
     "output_type": "execute_result"
    }
   ],
   "source": [
    "# 이 제목 정보를 ratings 테이블과 결합\n",
    "\n",
    "ratings = ratings.merge(movies)\n",
    "ratings.head()"
   ]
  },
  {
   "cell_type": "code",
   "execution_count": 84,
   "id": "ce180e5e-ef5a-4e1b-aa39-2b35f08bf3b1",
   "metadata": {},
   "outputs": [
    {
     "data": {
      "text/html": [
       "<table border=\"1\" class=\"dataframe\">\n",
       "  <thead>\n",
       "    <tr style=\"text-align: right;\">\n",
       "      <th></th>\n",
       "      <th>user</th>\n",
       "      <th>title</th>\n",
       "      <th>rating</th>\n",
       "    </tr>\n",
       "  </thead>\n",
       "  <tbody>\n",
       "    <tr>\n",
       "      <th>0</th>\n",
       "      <td>880</td>\n",
       "      <td>Dave (1993)</td>\n",
       "      <td>4</td>\n",
       "    </tr>\n",
       "    <tr>\n",
       "      <th>1</th>\n",
       "      <td>788</td>\n",
       "      <td>Paris Is Burning (1990)</td>\n",
       "      <td>3</td>\n",
       "    </tr>\n",
       "    <tr>\n",
       "      <th>2</th>\n",
       "      <td>833</td>\n",
       "      <td>Boogie Nights (1997)</td>\n",
       "      <td>5</td>\n",
       "    </tr>\n",
       "    <tr>\n",
       "      <th>3</th>\n",
       "      <td>169</td>\n",
       "      <td>Casablanca (1942)</td>\n",
       "      <td>3</td>\n",
       "    </tr>\n",
       "    <tr>\n",
       "      <th>4</th>\n",
       "      <td>661</td>\n",
       "      <td>Enchanted April (1991)</td>\n",
       "      <td>5</td>\n",
       "    </tr>\n",
       "    <tr>\n",
       "      <th>5</th>\n",
       "      <td>464</td>\n",
       "      <td>Gattaca (1997)</td>\n",
       "      <td>4</td>\n",
       "    </tr>\n",
       "    <tr>\n",
       "      <th>6</th>\n",
       "      <td>870</td>\n",
       "      <td>Paper, The (1994)</td>\n",
       "      <td>2</td>\n",
       "    </tr>\n",
       "    <tr>\n",
       "      <th>7</th>\n",
       "      <td>843</td>\n",
       "      <td>Heavy Metal (1981)</td>\n",
       "      <td>3</td>\n",
       "    </tr>\n",
       "    <tr>\n",
       "      <th>8</th>\n",
       "      <td>871</td>\n",
       "      <td>Top Gun (1986)</td>\n",
       "      <td>5</td>\n",
       "    </tr>\n",
       "    <tr>\n",
       "      <th>9</th>\n",
       "      <td>234</td>\n",
       "      <td>Four Weddings and a Funeral (1994)</td>\n",
       "      <td>3</td>\n",
       "    </tr>\n",
       "  </tbody>\n",
       "</table>"
      ],
      "text/plain": [
       "<IPython.core.display.HTML object>"
      ]
     },
     "metadata": {},
     "output_type": "display_data"
    }
   ],
   "source": [
    "# CallabDataLoaders는\n",
    "# 디폴트로 1번열을 사용자, 2번열을 항목(영화), 3번열을 점수로 사용한다.\n",
    "# 2번열을 항목 대신 제목으로 바꾸려 한다.\n",
    "\n",
    "dls = CollabDataLoaders.from_df(ratings,\n",
    "                                item_name='title',\n",
    "                                bs=64)\n",
    "dls.show_batch()\n",
    "\n",
    "# 열 변경은 순서대로 user_name, item_name, rating_name 매개변수를 바꾼다."
   ]
  },
  {
   "cell_type": "code",
   "execution_count": 92,
   "id": "a7cd1fa4-add4-42a5-8da2-39f9a2aae6a6",
   "metadata": {},
   "outputs": [
    {
     "name": "stdout",
     "output_type": "stream",
     "text": [
      "n_users: 944\n"
     ]
    },
    {
     "data": {
      "text/plain": [
       "tensor([[ 0.6470, -0.2019, -0.6334, -2.2870,  0.6082],\n",
       "        [ 0.2917, -0.0224, -0.7459, -0.0506, -0.8882],\n",
       "        [ 1.4981,  0.1669,  1.0496,  0.2169,  0.2054],\n",
       "        ...,\n",
       "        [ 0.5434,  0.0423,  1.6387, -0.9341,  0.6146],\n",
       "        [ 0.1950,  0.7329, -0.5764, -0.3876,  3.2328],\n",
       "        [ 0.6268, -2.1163,  0.1140, -0.5319, -0.6411]])"
      ]
     },
     "execution_count": 92,
     "metadata": {},
     "output_type": "execute_result"
    }
   ],
   "source": [
    "n_users = len(dls.classes['user'])\n",
    "n_movies = len(dls.classes['title'])\n",
    "n_fatcors = 5\n",
    "print('n_users:', n_users)\n",
    "\n",
    "torch.randn(n_users, n_fatcors) # 임의로 n_users*5 행렬 만든다."
   ]
  },
  {
   "cell_type": "code",
   "execution_count": 108,
   "id": "59295362-baf9-4d87-aced-c8d412683085",
   "metadata": {},
   "outputs": [],
   "source": [
    "\n",
    "class DotProduct(Module):\n",
    "    # 임베딩 행렬 초기화\n",
    "    def __init__(self, n_users, n_movies, n_factors):\n",
    "        self.user_factors = Embedding(n_users, n_factors)\n",
    "        self.movie_factors = Embedding(n_movies, n_factors)\n",
    "    \n",
    "    # 임베딩 행렬 완성, 점곱\n",
    "    def forward(self, x):\n",
    "        users = self.user_factors(x[:, 0])\n",
    "        movies = self.movie_factors(x[:, 1])\n",
    "        return (users*movies).sum(dim=1)"
   ]
  },
  {
   "cell_type": "markdown",
   "id": "1490a3c5-759a-4888-aa07-7e8e04fa8092",
   "metadata": {},
   "source": [
    "## 1. 모델에 넘겨줄 데이터 dls\n",
    "\n",
    "- **X: 예측에 필요한 데이터**\n",
    "    - 사용자ID.\n",
    "    - 영화ID.\n",
    "\n",
    "- **Y: 타겟**\n",
    "    - 사용자ID별 평점 점수\n",
    "\n",
    "\n",
    "## 2. 모델이 할 일\n",
    "- **임베딩**\n",
    "    - 사용자ID를 수치(특성)로 나타낸다.\n",
    "    - 영화ID를 수치(특성)로 나타낸다.\n",
    "\n",
    "- **점곱**\n",
    "    - 두 수치의 점곱을 구하여 합산한다.\n",
    "    - 이것는 사용자ID별 평점 예측 점수가 된다.\n",
    "\n",
    "- **손실 줄이기**\n",
    "    - 사용자ID별 평점 예측 점수와 실제 평점 점수를 비교하여 손실을 줄여간다."
   ]
  },
  {
   "cell_type": "markdown",
   "id": "a28e6686-d3f0-4bd6-b3a8-073c3561518f",
   "metadata": {},
   "source": [
    "## 3. 임베딩\n",
    "- **범주형(ID등)** 을 **수치형**으로 바꾼다.\n",
    "- 예를 들어, 사용자수를 100, 잠재요소개수를 5라고 하자.\n",
    "\n",
    "1. 임베딩행렬 user_fatcors 초기화\n",
    "    - (100*5) 모양이야.\n",
    "<br><br>\n",
    "2. 사용자ID 넘기기\n",
    "    - dls의 0번째 열 x[:, 0]은 [2, 10, 7 ..]와 같은 사용자ID야.\n",
    "    - 이 ID가 행렬의 인덱스가 돼.\n",
    "    - 두 번째 사용자ID는 행렬의 두 번째 벡터가 돼.\n",
    "    - [0.64, -0.2, -0.6, 0.5, 0.1]\n",
    "<br><br>\n",
    "3. 임베딩행렬 user_fatcors 완성\n",
    "    - 사용자ID와 임베딩행렬이 매칭되면 행렬이 완성돼.\n",
    "    - (100*5) 모양이야.\n",
    "<br><br>\n",
    "4. 임베딩 행렬 movie_factors 완성\n",
    "    - (100*5) 모양이야.\n",
    "<br><br>\n",
    "5. 점곱\n",
    "    - user_factors와 movie_factors를 곱한 후 요소를 합산해.\n",
    "    - 이 값이 각 사용자의 영화 평점 예측값이 돼.\n",
    "    - (100) 모양이야.\n",
    "    \n",
    "    \n",
    "## 4. 점곱\n",
    "user_fatcors(100*5) 와 user_factors(100*5)를 어떻게 곱할 수 있지?\n",
    "<br>\n",
    "NumPy의 `np.dot()` 함수와 벡터의 점곱(dot product)은 다르다.\n",
    "\n",
    "1. **NumPy의 `np.dot()` 함수**:\n",
    "   - 일반적인 행렬 곱셈. 첫 번째 행렬의 열과 두 번째 행렬의 행이 곱해진다.\n",
    "\n",
    "2. **벡터의 점곱**:\n",
    "   - **동일한 위치**에 있는 요소들을 곱하여 구한다.\n",
    "   - 두 벡터 `[a, b, c]`와 `[d, e, f]`의 점곱은 `a*d + b*e + c*f`이다."
   ]
  },
  {
   "cell_type": "code",
   "execution_count": 110,
   "id": "adaa38e9-b9a0-49da-9f44-cb23fdc6858b",
   "metadata": {},
   "outputs": [],
   "source": [
    "model = DotProduct(n_users, n_movies, 50)\n",
    "learn = Learner(dls, model, loss_func=MSELossFlat())"
   ]
  },
  {
   "cell_type": "code",
   "execution_count": 111,
   "id": "f8450dba-0995-4ce4-b04c-8ecff5dccda2",
   "metadata": {},
   "outputs": [
    {
     "data": {
      "text/html": [
       "\n",
       "<style>\n",
       "    /* Turns off some styling */\n",
       "    progress {\n",
       "        /* gets rid of default border in Firefox and Opera. */\n",
       "        border: none;\n",
       "        /* Needs to be in here for Safari polyfill so background images work as expected. */\n",
       "        background-size: auto;\n",
       "    }\n",
       "    progress:not([value]), progress:not([value])::-webkit-progress-bar {\n",
       "        background: repeating-linear-gradient(45deg, #7e7e7e, #7e7e7e 10px, #5c5c5c 10px, #5c5c5c 20px);\n",
       "    }\n",
       "    .progress-bar-interrupted, .progress-bar-interrupted::-webkit-progress-bar {\n",
       "        background: #F44336;\n",
       "    }\n",
       "</style>\n"
      ],
      "text/plain": [
       "<IPython.core.display.HTML object>"
      ]
     },
     "metadata": {},
     "output_type": "display_data"
    },
    {
     "data": {
      "text/html": [
       "<table border=\"1\" class=\"dataframe\">\n",
       "  <thead>\n",
       "    <tr style=\"text-align: left;\">\n",
       "      <th>epoch</th>\n",
       "      <th>train_loss</th>\n",
       "      <th>valid_loss</th>\n",
       "      <th>time</th>\n",
       "    </tr>\n",
       "  </thead>\n",
       "  <tbody>\n",
       "    <tr>\n",
       "      <td>0</td>\n",
       "      <td>1.322955</td>\n",
       "      <td>1.290159</td>\n",
       "      <td>00:14</td>\n",
       "    </tr>\n",
       "    <tr>\n",
       "      <td>1</td>\n",
       "      <td>1.097970</td>\n",
       "      <td>1.084686</td>\n",
       "      <td>00:12</td>\n",
       "    </tr>\n",
       "    <tr>\n",
       "      <td>2</td>\n",
       "      <td>0.950265</td>\n",
       "      <td>0.977421</td>\n",
       "      <td>00:12</td>\n",
       "    </tr>\n",
       "    <tr>\n",
       "      <td>3</td>\n",
       "      <td>0.826734</td>\n",
       "      <td>0.890247</td>\n",
       "      <td>00:13</td>\n",
       "    </tr>\n",
       "    <tr>\n",
       "      <td>4</td>\n",
       "      <td>0.763387</td>\n",
       "      <td>0.876253</td>\n",
       "      <td>00:13</td>\n",
       "    </tr>\n",
       "  </tbody>\n",
       "</table>"
      ],
      "text/plain": [
       "<IPython.core.display.HTML object>"
      ]
     },
     "metadata": {},
     "output_type": "display_data"
    }
   ],
   "source": [
    "learn.fit_one_cycle(5, 5e-3)"
   ]
  },
  {
   "cell_type": "code",
   "execution_count": null,
   "id": "767bfe3e-fb85-4414-83a5-2f1545288bb0",
   "metadata": {},
   "outputs": [],
   "source": []
  }
 ],
 "metadata": {
  "kernelspec": {
   "display_name": "Python 3 (ipykernel)",
   "language": "python",
   "name": "python3"
  },
  "language_info": {
   "codemirror_mode": {
    "name": "ipython",
    "version": 3
   },
   "file_extension": ".py",
   "mimetype": "text/x-python",
   "name": "python",
   "nbconvert_exporter": "python",
   "pygments_lexer": "ipython3",
   "version": "3.9.13"
  }
 },
 "nbformat": 4,
 "nbformat_minor": 5
}
