{
 "cells": [
  {
   "cell_type": "code",
   "execution_count": 4,
   "id": "b7d718cc-c795-4a43-8adc-b381b1984df5",
   "metadata": {},
   "outputs": [],
   "source": [
    "from fastai.collab import *\n",
    "from fastai.tabular.all import *\n",
    "path = untar_data(URLs.ML_100k)"
   ]
  },
  {
   "cell_type": "markdown",
   "id": "5ad9cf5d-b865-4e82-aa94-ff9a662295f0",
   "metadata": {},
   "source": [
    "## 데이터 준비\n",
    "- 모델에 넘겨줄 데이터 (dls):\n",
    "- X (입력 데이터): 사용자 ID와 영화 ID.\n",
    "- Y (타겟 데이터): 사용자별 평점 점수."
   ]
  },
  {
   "cell_type": "code",
   "execution_count": 5,
   "id": "ec200493-552a-43be-abf1-aa47a9cacdb8",
   "metadata": {},
   "outputs": [
    {
     "data": {
      "text/html": [
       "<div>\n",
       "<style scoped>\n",
       "    .dataframe tbody tr th:only-of-type {\n",
       "        vertical-align: middle;\n",
       "    }\n",
       "\n",
       "    .dataframe tbody tr th {\n",
       "        vertical-align: top;\n",
       "    }\n",
       "\n",
       "    .dataframe thead th {\n",
       "        text-align: right;\n",
       "    }\n",
       "</style>\n",
       "<table border=\"1\" class=\"dataframe\">\n",
       "  <thead>\n",
       "    <tr style=\"text-align: right;\">\n",
       "      <th></th>\n",
       "      <th>user</th>\n",
       "      <th>movie</th>\n",
       "      <th>rating</th>\n",
       "      <th>timestamp</th>\n",
       "    </tr>\n",
       "  </thead>\n",
       "  <tbody>\n",
       "    <tr>\n",
       "      <th>0</th>\n",
       "      <td>196</td>\n",
       "      <td>242</td>\n",
       "      <td>3</td>\n",
       "      <td>881250949</td>\n",
       "    </tr>\n",
       "    <tr>\n",
       "      <th>1</th>\n",
       "      <td>186</td>\n",
       "      <td>302</td>\n",
       "      <td>3</td>\n",
       "      <td>891717742</td>\n",
       "    </tr>\n",
       "  </tbody>\n",
       "</table>\n",
       "</div>"
      ],
      "text/plain": [
       "   user  movie  rating  timestamp\n",
       "0   196    242       3  881250949\n",
       "1   186    302       3  891717742"
      ]
     },
     "execution_count": 5,
     "metadata": {},
     "output_type": "execute_result"
    }
   ],
   "source": [
    "# path/'u.data' 기본 테이블 경로\n",
    "# 사용자ID, 영화ID, 점수 등이 있어.\n",
    "ratings = pd.read_csv(path/'u.data',\n",
    "                     delimiter='\\t',\n",
    "                     header=None,\n",
    "                     names=['user','movie','rating','timestamp'])\n",
    "\n",
    "ratings.head(2)"
   ]
  },
  {
   "cell_type": "code",
   "execution_count": 6,
   "id": "248f53c7-9273-4801-a9f7-536f99e5f8e9",
   "metadata": {},
   "outputs": [
    {
     "data": {
      "text/plain": [
       "2.1420000000000003"
      ]
     },
     "execution_count": 6,
     "metadata": {},
     "output_type": "execute_result"
    }
   ],
   "source": [
    "# 사용자 간 유사성은 어떻게 구할까?\n",
    "# SF, 액션, 고전을 좋아하는 정도를 수치로 나타내.\n",
    "user1 = np.array([0.98, 0.9, -0.9])\n",
    "user2 = np.array([0.9, 0.8, -0.6])\n",
    "\n",
    "# user1과 user2의 유사성은 접곰으로 구해.\n",
    "(user1 * user2).sum()"
   ]
  },
  {
   "cell_type": "code",
   "execution_count": 7,
   "id": "e0b1c0db-eda8-421d-9390-cafe2e8bde5b",
   "metadata": {},
   "outputs": [
    {
     "data": {
      "text/html": [
       "<div>\n",
       "<style scoped>\n",
       "    .dataframe tbody tr th:only-of-type {\n",
       "        vertical-align: middle;\n",
       "    }\n",
       "\n",
       "    .dataframe tbody tr th {\n",
       "        vertical-align: top;\n",
       "    }\n",
       "\n",
       "    .dataframe thead th {\n",
       "        text-align: right;\n",
       "    }\n",
       "</style>\n",
       "<table border=\"1\" class=\"dataframe\">\n",
       "  <thead>\n",
       "    <tr style=\"text-align: right;\">\n",
       "      <th></th>\n",
       "      <th>movie</th>\n",
       "      <th>title</th>\n",
       "    </tr>\n",
       "  </thead>\n",
       "  <tbody>\n",
       "    <tr>\n",
       "      <th>0</th>\n",
       "      <td>1</td>\n",
       "      <td>Toy Story (1995)</td>\n",
       "    </tr>\n",
       "    <tr>\n",
       "      <th>1</th>\n",
       "      <td>2</td>\n",
       "      <td>GoldenEye (1995)</td>\n",
       "    </tr>\n",
       "  </tbody>\n",
       "</table>\n",
       "</div>"
      ],
      "text/plain": [
       "   movie             title\n",
       "0      1  Toy Story (1995)\n",
       "1      2  GoldenEye (1995)"
      ]
     },
     "execution_count": 7,
     "metadata": {},
     "output_type": "execute_result"
    }
   ],
   "source": [
    "# 영화ID을 제목으로 대체해.\n",
    "# 제목 경로는 path/'u.item'\n",
    "movies = pd.read_csv(path/'u.item',\n",
    "                     delimiter='|',\n",
    "                     encoding='latin-1',\n",
    "                     usecols=(0,1),\n",
    "                     names=['movie','title'],\n",
    "                     header=None)\n",
    "\n",
    "movies.head(2)"
   ]
  },
  {
   "cell_type": "code",
   "execution_count": 8,
   "id": "83bc1e55-9ab2-4345-9d25-2a719003ed83",
   "metadata": {},
   "outputs": [
    {
     "data": {
      "text/html": [
       "<div>\n",
       "<style scoped>\n",
       "    .dataframe tbody tr th:only-of-type {\n",
       "        vertical-align: middle;\n",
       "    }\n",
       "\n",
       "    .dataframe tbody tr th {\n",
       "        vertical-align: top;\n",
       "    }\n",
       "\n",
       "    .dataframe thead th {\n",
       "        text-align: right;\n",
       "    }\n",
       "</style>\n",
       "<table border=\"1\" class=\"dataframe\">\n",
       "  <thead>\n",
       "    <tr style=\"text-align: right;\">\n",
       "      <th></th>\n",
       "      <th>user</th>\n",
       "      <th>movie</th>\n",
       "      <th>rating</th>\n",
       "      <th>timestamp</th>\n",
       "      <th>title</th>\n",
       "    </tr>\n",
       "  </thead>\n",
       "  <tbody>\n",
       "    <tr>\n",
       "      <th>0</th>\n",
       "      <td>196</td>\n",
       "      <td>242</td>\n",
       "      <td>3</td>\n",
       "      <td>881250949</td>\n",
       "      <td>Kolya (1996)</td>\n",
       "    </tr>\n",
       "    <tr>\n",
       "      <th>1</th>\n",
       "      <td>63</td>\n",
       "      <td>242</td>\n",
       "      <td>3</td>\n",
       "      <td>875747190</td>\n",
       "      <td>Kolya (1996)</td>\n",
       "    </tr>\n",
       "  </tbody>\n",
       "</table>\n",
       "</div>"
      ],
      "text/plain": [
       "   user  movie  rating  timestamp         title\n",
       "0   196    242       3  881250949  Kolya (1996)\n",
       "1    63    242       3  875747190  Kolya (1996)"
      ]
     },
     "execution_count": 8,
     "metadata": {},
     "output_type": "execute_result"
    }
   ],
   "source": [
    "# 제목 테이블 (movies) 를 기본 테이블 (ratings) 에 결합해.\n",
    "\n",
    "ratings = ratings.merge(movies)\n",
    "ratings.head(2)"
   ]
  },
  {
   "cell_type": "markdown",
   "id": "baffb799-c2bb-45bd-af62-27dbea57a70a",
   "metadata": {},
   "source": [
    "## 데이터로더\n",
    "- CallabDataLoaders 의 디폴트 특징\n",
    "- 1번열로 user, 2번열로 항목(movie), 3번열로 rating을 가져다가 dls를 만들어.\n",
    "- **2번열을 movie 대신 title로 바꾸려 해.**\n",
    "- 열 변경은 user_name, item_name, rating_name 매개변수를 바꾸면 돼."
   ]
  },
  {
   "cell_type": "code",
   "execution_count": 9,
   "id": "ce180e5e-ef5a-4e1b-aa39-2b35f08bf3b1",
   "metadata": {},
   "outputs": [
    {
     "data": {
      "text/html": [
       "<table border=\"1\" class=\"dataframe\">\n",
       "  <thead>\n",
       "    <tr style=\"text-align: right;\">\n",
       "      <th></th>\n",
       "      <th>user</th>\n",
       "      <th>title</th>\n",
       "      <th>rating</th>\n",
       "    </tr>\n",
       "  </thead>\n",
       "  <tbody>\n",
       "    <tr>\n",
       "      <th>0</th>\n",
       "      <td>721</td>\n",
       "      <td>Kicked in the Head (1997)</td>\n",
       "      <td>3</td>\n",
       "    </tr>\n",
       "    <tr>\n",
       "      <th>1</th>\n",
       "      <td>345</td>\n",
       "      <td>Speed (1994)</td>\n",
       "      <td>4</td>\n",
       "    </tr>\n",
       "    <tr>\n",
       "      <th>2</th>\n",
       "      <td>62</td>\n",
       "      <td>Star Wars (1977)</td>\n",
       "      <td>5</td>\n",
       "    </tr>\n",
       "    <tr>\n",
       "      <th>3</th>\n",
       "      <td>249</td>\n",
       "      <td>My Best Friend's Wedding (1997)</td>\n",
       "      <td>3</td>\n",
       "    </tr>\n",
       "    <tr>\n",
       "      <th>4</th>\n",
       "      <td>303</td>\n",
       "      <td>Rock, The (1996)</td>\n",
       "      <td>3</td>\n",
       "    </tr>\n",
       "    <tr>\n",
       "      <th>5</th>\n",
       "      <td>716</td>\n",
       "      <td>Sound of Music, The (1965)</td>\n",
       "      <td>5</td>\n",
       "    </tr>\n",
       "    <tr>\n",
       "      <th>6</th>\n",
       "      <td>399</td>\n",
       "      <td>Lion King, The (1994)</td>\n",
       "      <td>3</td>\n",
       "    </tr>\n",
       "    <tr>\n",
       "      <th>7</th>\n",
       "      <td>373</td>\n",
       "      <td>Made in America (1993)</td>\n",
       "      <td>3</td>\n",
       "    </tr>\n",
       "    <tr>\n",
       "      <th>8</th>\n",
       "      <td>291</td>\n",
       "      <td>Abyss, The (1989)</td>\n",
       "      <td>4</td>\n",
       "    </tr>\n",
       "    <tr>\n",
       "      <th>9</th>\n",
       "      <td>60</td>\n",
       "      <td>Breakfast at Tiffany's (1961)</td>\n",
       "      <td>4</td>\n",
       "    </tr>\n",
       "  </tbody>\n",
       "</table>"
      ],
      "text/plain": [
       "<IPython.core.display.HTML object>"
      ]
     },
     "metadata": {},
     "output_type": "display_data"
    }
   ],
   "source": [
    "dls = CollabDataLoaders.from_df(ratings,\n",
    "                                item_name='title',\n",
    "                                bs=64)\n",
    "dls.show_batch()\n",
    "# dls[:, 0] = user\n",
    "# dls[:, 1] = title"
   ]
  },
  {
   "cell_type": "markdown",
   "id": "1490a3c5-759a-4888-aa07-7e8e04fa8092",
   "metadata": {},
   "source": [
    "## 모델이 수행할 작업\n",
    "- **임베딩**: 사용자 ID와 영화 ID를 수치(임베딩 벡터)로 변환해.\n",
    "- **점곱 계산**: 사용자의 임베딩 벡터와 영화의 임베딩 벡터를 요소별로 곱하고, 그 결과를 합산하여 사용자별 평점 **예측** 점수를 계산해.\n",
    "- **손실 최소화**: 평점 **예측** 점수와 실제 점수 간의 차이(손실)를 줄이기 위해 모델을 학습해."
   ]
  },
  {
   "cell_type": "markdown",
   "id": "a28e6686-d3f0-4bd6-b3a8-073c3561518f",
   "metadata": {},
   "source": [
    "**임베딩**\n",
    "- 범주형(ID등)을 수치형으로 바꾸는 것.\n",
    "- 사용자수를 100, 잠재요소개수를 5라고 하자.\n",
    "\n",
    "1. Embedding 계층 (user_fatcors) 초기화 : (100*5) 모양.\n",
    "2. 인덱싱(Indexing) : 사용자ID 넘기기.\n",
    "- Embedding 내부엔 임베딩 테이블이 있어.\n",
    "- 이 테이블에는 ID 열과 벡터 열이 저장돼.\n",
    "- 입력으로 제공된 사용자 ID는 인덱스로 사용돼. <br>\n",
    "| ID | 벡터          |\n",
    "|----|-------------|\n",
    "| 0  | [x1, x2, x3] |\n",
    "| 1  | [y1, y2, y3] |\n",
    "| 2  | [z1, z2, z3] |\n",
    "\n",
    "**점곱**\n",
    "- user_factors (100*5) 와 movie_factors (100*5) 를 요소별로 곱하고 합산.\n",
    "- 이 값이 사용자별 평점 예측 점수야. (100) 모양.\n",
    "- *NumPy의 np.dot() 함수와 달리, 점곱은 동일한 위치에 있는 요소 끼리 곱해."
   ]
  },
  {
   "cell_type": "code",
   "execution_count": 10,
   "id": "a7cd1fa4-add4-42a5-8da2-39f9a2aae6a6",
   "metadata": {},
   "outputs": [
    {
     "data": {
      "text/plain": [
       "tensor([[ 0.1531,  0.6339, -0.2521,  0.1538,  1.0126],\n",
       "        [ 0.4612,  0.2719, -0.6853,  0.2839, -0.0030],\n",
       "        [ 0.2353,  0.2725,  0.6569, -0.2560,  0.3473],\n",
       "        ...,\n",
       "        [-0.5727, -1.0461,  0.5114,  1.6148,  0.1742],\n",
       "        [ 0.0486,  0.8721,  0.6095,  0.7302, -0.9667],\n",
       "        [ 0.6913,  1.2748,  1.5968, -0.6550, -1.1866]])"
      ]
     },
     "execution_count": 10,
     "metadata": {},
     "output_type": "execute_result"
    }
   ],
   "source": [
    "n_users = len(dls.classes['user'])\n",
    "n_movies = len(dls.classes['title'])\n",
    "n_fatcors = 5\n",
    "\n",
    "torch.randn(n_users, n_fatcors) # 임의로 만든 n_users*5 행렬."
   ]
  },
  {
   "cell_type": "code",
   "execution_count": 11,
   "id": "59295362-baf9-4d87-aced-c8d412683085",
   "metadata": {},
   "outputs": [],
   "source": [
    "class DotProduct(Module):\n",
    "    # Embedding 계층 초기화\n",
    "    def __init__(self, n_users, n_movies, n_factors):\n",
    "        self.user_factors = Embedding(n_users, n_factors)\n",
    "        self.movie_factors = Embedding(n_movies, n_factors)\n",
    "    \n",
    "    # 사용자 및 영화 ID 넘기기\n",
    "    def forward(self, x):\n",
    "        users = self.user_factors(x[:, 0])\n",
    "        movies = self.movie_factors(x[:, 1])\n",
    "        return (users*movies).sum(dim=1) # 점곱 계산"
   ]
  },
  {
   "cell_type": "code",
   "execution_count": 12,
   "id": "adaa38e9-b9a0-49da-9f44-cb23fdc6858b",
   "metadata": {},
   "outputs": [],
   "source": [
    "model = DotProduct(n_users, n_movies, 50)\n",
    "\n",
    "learn = Learner(dls, model, loss_func=MSELossFlat())"
   ]
  },
  {
   "cell_type": "code",
   "execution_count": 13,
   "id": "767bfe3e-fb85-4414-83a5-2f1545288bb0",
   "metadata": {},
   "outputs": [
    {
     "data": {
      "text/html": [
       "\n",
       "<style>\n",
       "    /* Turns off some styling */\n",
       "    progress {\n",
       "        /* gets rid of default border in Firefox and Opera. */\n",
       "        border: none;\n",
       "        /* Needs to be in here for Safari polyfill so background images work as expected. */\n",
       "        background-size: auto;\n",
       "    }\n",
       "    progress:not([value]), progress:not([value])::-webkit-progress-bar {\n",
       "        background: repeating-linear-gradient(45deg, #7e7e7e, #7e7e7e 10px, #5c5c5c 10px, #5c5c5c 20px);\n",
       "    }\n",
       "    .progress-bar-interrupted, .progress-bar-interrupted::-webkit-progress-bar {\n",
       "        background: #F44336;\n",
       "    }\n",
       "</style>\n"
      ],
      "text/plain": [
       "<IPython.core.display.HTML object>"
      ]
     },
     "metadata": {},
     "output_type": "display_data"
    },
    {
     "data": {
      "text/html": [
       "<table border=\"1\" class=\"dataframe\">\n",
       "  <thead>\n",
       "    <tr style=\"text-align: left;\">\n",
       "      <th>epoch</th>\n",
       "      <th>train_loss</th>\n",
       "      <th>valid_loss</th>\n",
       "      <th>time</th>\n",
       "    </tr>\n",
       "  </thead>\n",
       "  <tbody>\n",
       "    <tr>\n",
       "      <td>0</td>\n",
       "      <td>1.366971</td>\n",
       "      <td>1.274634</td>\n",
       "      <td>00:08</td>\n",
       "    </tr>\n",
       "    <tr>\n",
       "      <td>1</td>\n",
       "      <td>1.076361</td>\n",
       "      <td>1.111905</td>\n",
       "      <td>00:08</td>\n",
       "    </tr>\n",
       "    <tr>\n",
       "      <td>2</td>\n",
       "      <td>0.976048</td>\n",
       "      <td>1.003460</td>\n",
       "      <td>00:07</td>\n",
       "    </tr>\n",
       "    <tr>\n",
       "      <td>3</td>\n",
       "      <td>0.862713</td>\n",
       "      <td>0.904968</td>\n",
       "      <td>00:08</td>\n",
       "    </tr>\n",
       "    <tr>\n",
       "      <td>4</td>\n",
       "      <td>0.813333</td>\n",
       "      <td>0.888215</td>\n",
       "      <td>00:08</td>\n",
       "    </tr>\n",
       "  </tbody>\n",
       "</table>"
      ],
      "text/plain": [
       "<IPython.core.display.HTML object>"
      ]
     },
     "metadata": {},
     "output_type": "display_data"
    }
   ],
   "source": [
    "learn.fit_one_cycle(5, 5e-3)"
   ]
  },
  {
   "cell_type": "markdown",
   "id": "aa4f94c3-774a-4f85-b338-32a60b2e1321",
   "metadata": {},
   "source": [
    "## 모델 개선: 예측 범위를 0~5가 되도록 강제\n",
    "- sigmoid_range 함수로 구현"
   ]
  },
  {
   "cell_type": "code",
   "execution_count": 14,
   "id": "3665f6d7-fda4-406b-90e3-b87427a21924",
   "metadata": {},
   "outputs": [
    {
     "data": {
      "text/html": [
       "\n",
       "<style>\n",
       "    /* Turns off some styling */\n",
       "    progress {\n",
       "        /* gets rid of default border in Firefox and Opera. */\n",
       "        border: none;\n",
       "        /* Needs to be in here for Safari polyfill so background images work as expected. */\n",
       "        background-size: auto;\n",
       "    }\n",
       "    progress:not([value]), progress:not([value])::-webkit-progress-bar {\n",
       "        background: repeating-linear-gradient(45deg, #7e7e7e, #7e7e7e 10px, #5c5c5c 10px, #5c5c5c 20px);\n",
       "    }\n",
       "    .progress-bar-interrupted, .progress-bar-interrupted::-webkit-progress-bar {\n",
       "        background: #F44336;\n",
       "    }\n",
       "</style>\n"
      ],
      "text/plain": [
       "<IPython.core.display.HTML object>"
      ]
     },
     "metadata": {},
     "output_type": "display_data"
    },
    {
     "data": {
      "text/html": [
       "<table border=\"1\" class=\"dataframe\">\n",
       "  <thead>\n",
       "    <tr style=\"text-align: left;\">\n",
       "      <th>epoch</th>\n",
       "      <th>train_loss</th>\n",
       "      <th>valid_loss</th>\n",
       "      <th>time</th>\n",
       "    </tr>\n",
       "  </thead>\n",
       "  <tbody>\n",
       "    <tr>\n",
       "      <td>0</td>\n",
       "      <td>0.980548</td>\n",
       "      <td>0.991887</td>\n",
       "      <td>00:08</td>\n",
       "    </tr>\n",
       "    <tr>\n",
       "      <td>1</td>\n",
       "      <td>0.869839</td>\n",
       "      <td>0.899969</td>\n",
       "      <td>00:08</td>\n",
       "    </tr>\n",
       "    <tr>\n",
       "      <td>2</td>\n",
       "      <td>0.681890</td>\n",
       "      <td>0.874633</td>\n",
       "      <td>00:08</td>\n",
       "    </tr>\n",
       "    <tr>\n",
       "      <td>3</td>\n",
       "      <td>0.467136</td>\n",
       "      <td>0.875479</td>\n",
       "      <td>00:08</td>\n",
       "    </tr>\n",
       "    <tr>\n",
       "      <td>4</td>\n",
       "      <td>0.356470</td>\n",
       "      <td>0.880198</td>\n",
       "      <td>00:08</td>\n",
       "    </tr>\n",
       "  </tbody>\n",
       "</table>"
      ],
      "text/plain": [
       "<IPython.core.display.HTML object>"
      ]
     },
     "metadata": {},
     "output_type": "display_data"
    }
   ],
   "source": [
    "class DotProduct(Module):\n",
    "    def __init__(self, n_users, n_movies, n_factors, y_range=(0, 5.5)):\n",
    "        self.user_factors = Embedding(n_users, n_factors)\n",
    "        self.movie_factors = Embedding(n_movies, n_factors)\n",
    "        self.y_range = y_range\n",
    "        \n",
    "    # 예측 범위를 0~5가 되도록 강제\n",
    "    # sigmoid_range함수로 구현\n",
    "    def forward(self, x):\n",
    "        users = self.user_factors(x[:, 0])\n",
    "        movies = self.movie_factors(x[:, 1])\n",
    "        return sigmoid_range((users*movies).sum(dim=1), *self.y_range) # unpack\n",
    "\n",
    "model = DotProduct(n_users, n_movies, 50)\n",
    "learn = Learner(dls, model, loss_func=MSELossFlat())\n",
    "learn.fit_one_cycle(5, 5e-3)"
   ]
  },
  {
   "cell_type": "markdown",
   "id": "82bc5528-ef75-46f2-82b8-3eaa99833dc0",
   "metadata": {},
   "source": [
    "## 모델 개선: 편향 추가"
   ]
  },
  {
   "cell_type": "code",
   "execution_count": 15,
   "id": "e37e42f6-43ae-4e4a-ac58-72815144b376",
   "metadata": {},
   "outputs": [
    {
     "data": {
      "text/html": [
       "\n",
       "<style>\n",
       "    /* Turns off some styling */\n",
       "    progress {\n",
       "        /* gets rid of default border in Firefox and Opera. */\n",
       "        border: none;\n",
       "        /* Needs to be in here for Safari polyfill so background images work as expected. */\n",
       "        background-size: auto;\n",
       "    }\n",
       "    progress:not([value]), progress:not([value])::-webkit-progress-bar {\n",
       "        background: repeating-linear-gradient(45deg, #7e7e7e, #7e7e7e 10px, #5c5c5c 10px, #5c5c5c 20px);\n",
       "    }\n",
       "    .progress-bar-interrupted, .progress-bar-interrupted::-webkit-progress-bar {\n",
       "        background: #F44336;\n",
       "    }\n",
       "</style>\n"
      ],
      "text/plain": [
       "<IPython.core.display.HTML object>"
      ]
     },
     "metadata": {},
     "output_type": "display_data"
    },
    {
     "data": {
      "text/html": [
       "<table border=\"1\" class=\"dataframe\">\n",
       "  <thead>\n",
       "    <tr style=\"text-align: left;\">\n",
       "      <th>epoch</th>\n",
       "      <th>train_loss</th>\n",
       "      <th>valid_loss</th>\n",
       "      <th>time</th>\n",
       "    </tr>\n",
       "  </thead>\n",
       "  <tbody>\n",
       "    <tr>\n",
       "      <td>0</td>\n",
       "      <td>0.918193</td>\n",
       "      <td>0.932469</td>\n",
       "      <td>00:09</td>\n",
       "    </tr>\n",
       "    <tr>\n",
       "      <td>1</td>\n",
       "      <td>0.822338</td>\n",
       "      <td>0.859406</td>\n",
       "      <td>00:08</td>\n",
       "    </tr>\n",
       "    <tr>\n",
       "      <td>2</td>\n",
       "      <td>0.604462</td>\n",
       "      <td>0.862971</td>\n",
       "      <td>00:09</td>\n",
       "    </tr>\n",
       "    <tr>\n",
       "      <td>3</td>\n",
       "      <td>0.397753</td>\n",
       "      <td>0.888419</td>\n",
       "      <td>00:09</td>\n",
       "    </tr>\n",
       "    <tr>\n",
       "      <td>4</td>\n",
       "      <td>0.288703</td>\n",
       "      <td>0.895641</td>\n",
       "      <td>00:09</td>\n",
       "    </tr>\n",
       "  </tbody>\n",
       "</table>"
      ],
      "text/plain": [
       "<IPython.core.display.HTML object>"
      ]
     },
     "metadata": {},
     "output_type": "display_data"
    }
   ],
   "source": [
    "class DotProductBias(Module):\n",
    "    def __init__(self, n_users, n_movies, n_factors, y_range=(0, 5.5)):\n",
    "        self.user_factors = Embedding(n_users, n_factors)\n",
    "        self.user_bias = Embedding(n_users, 1) # 사용자 편향\n",
    "        self.movie_factors = Embedding(n_movies, n_factors)\n",
    "        self.movie_bias = Embedding(n_movies, 1) # 영화 편향\n",
    "        self.y_range = y_range\n",
    "        \n",
    "    \n",
    "    def forward(self, x):\n",
    "        users = self.user_factors(x[:, 0])\n",
    "        movies = self.movie_factors(x[:, 1])\n",
    "        res = (users*movies).sum(dim=1, keepdim=True) # 점곱 계산\n",
    "        res += self.user_bias(x[:, 0]) + self.movie_bias(x[:, 1]) # 편향 더하기\n",
    "        return sigmoid_range(res, *self.y_range)\n",
    "\n",
    "model = DotProductBias(n_users, n_movies, 50)\n",
    "learn = Learner(dls, model, loss_func=MSELossFlat())\n",
    "learn.fit_one_cycle(5, 5e-3)"
   ]
  },
  {
   "cell_type": "markdown",
   "id": "0c714b67-d35d-4292-9f77-3af5e255bee2",
   "metadata": {},
   "source": [
    "## 모델 개선: 가중치 감소\n",
    "- 모델의 가중치를 너무 크게 되지 않도록 제한하는 방법.\n",
    "- 가중치가 커지면 모델이 훈련 데이터에 과적합(overfitting)될 위험이 있음.\n",
    "- wd: weight decay \n",
    "- 0.1: 각 가중치를 얼마나 줄일 지 나타내는 값"
   ]
  },
  {
   "cell_type": "code",
   "execution_count": 16,
   "id": "ed5211d2-0427-4f1b-abdc-c3c3ea04f6ba",
   "metadata": {},
   "outputs": [
    {
     "data": {
      "text/html": [
       "\n",
       "<style>\n",
       "    /* Turns off some styling */\n",
       "    progress {\n",
       "        /* gets rid of default border in Firefox and Opera. */\n",
       "        border: none;\n",
       "        /* Needs to be in here for Safari polyfill so background images work as expected. */\n",
       "        background-size: auto;\n",
       "    }\n",
       "    progress:not([value]), progress:not([value])::-webkit-progress-bar {\n",
       "        background: repeating-linear-gradient(45deg, #7e7e7e, #7e7e7e 10px, #5c5c5c 10px, #5c5c5c 20px);\n",
       "    }\n",
       "    .progress-bar-interrupted, .progress-bar-interrupted::-webkit-progress-bar {\n",
       "        background: #F44336;\n",
       "    }\n",
       "</style>\n"
      ],
      "text/plain": [
       "<IPython.core.display.HTML object>"
      ]
     },
     "metadata": {},
     "output_type": "display_data"
    },
    {
     "data": {
      "text/html": [
       "<table border=\"1\" class=\"dataframe\">\n",
       "  <thead>\n",
       "    <tr style=\"text-align: left;\">\n",
       "      <th>epoch</th>\n",
       "      <th>train_loss</th>\n",
       "      <th>valid_loss</th>\n",
       "      <th>time</th>\n",
       "    </tr>\n",
       "  </thead>\n",
       "  <tbody>\n",
       "    <tr>\n",
       "      <td>0</td>\n",
       "      <td>0.943053</td>\n",
       "      <td>0.947362</td>\n",
       "      <td>00:09</td>\n",
       "    </tr>\n",
       "    <tr>\n",
       "      <td>1</td>\n",
       "      <td>0.851943</td>\n",
       "      <td>0.871780</td>\n",
       "      <td>00:09</td>\n",
       "    </tr>\n",
       "    <tr>\n",
       "      <td>2</td>\n",
       "      <td>0.737073</td>\n",
       "      <td>0.827995</td>\n",
       "      <td>00:09</td>\n",
       "    </tr>\n",
       "    <tr>\n",
       "      <td>3</td>\n",
       "      <td>0.588582</td>\n",
       "      <td>0.817257</td>\n",
       "      <td>00:08</td>\n",
       "    </tr>\n",
       "    <tr>\n",
       "      <td>4</td>\n",
       "      <td>0.481843</td>\n",
       "      <td>0.816647</td>\n",
       "      <td>00:08</td>\n",
       "    </tr>\n",
       "  </tbody>\n",
       "</table>"
      ],
      "text/plain": [
       "<IPython.core.display.HTML object>"
      ]
     },
     "metadata": {},
     "output_type": "display_data"
    }
   ],
   "source": [
    "model = DotProductBias(n_users, n_movies, 50)\n",
    "learn = Learner(dls, model, loss_func=MSELossFlat())\n",
    "learn.fit_one_cycle(5, 5e-3, wd=0.1)"
   ]
  },
  {
   "cell_type": "markdown",
   "id": "2b86a9bf-9da4-4f81-85b6-5091f44ae91c",
   "metadata": {},
   "source": [
    "## 모델 직접 만들기\n",
    "- Embedding 클래스를 사용하지 않고 만들 것.\n",
    "- 이 두 가지가 들어가도록 클래스를 만들면 돼.\n",
    "1. 임베딩하기 <br>\n",
    "    우선 텐서를 초기화하고 사용자ID를 넘겨 인덱싱 해.\n",
    "2. 점곱 계산"
   ]
  },
  {
   "cell_type": "code",
   "execution_count": 18,
   "id": "e57ce54a-d843-4dde-8abd-01c6612facfb",
   "metadata": {},
   "outputs": [
    {
     "data": {
      "text/plain": [
       "(#0) []"
      ]
     },
     "execution_count": 18,
     "metadata": {},
     "output_type": "execute_result"
    }
   ],
   "source": [
    "class T(Module):\n",
    "    def __init__(self):\n",
    "        self.a = torch.ones(3)\n",
    "\n",
    "# 텐서를 초기화한다고 해서 바로 parameters메서드가 반환되지 않아.\n",
    "# nn.Parameter 클래스로 래핑해야 해.\n",
    "L(T().parameters())"
   ]
  },
  {
   "cell_type": "code",
   "execution_count": 19,
   "id": "2b242251-57f8-4822-bd39-9938dfa68d7c",
   "metadata": {},
   "outputs": [
    {
     "data": {
      "text/plain": [
       "(#1) [Parameter containing:\n",
       "tensor([1., 1., 1.], requires_grad=True)]"
      ]
     },
     "execution_count": 19,
     "metadata": {},
     "output_type": "execute_result"
    }
   ],
   "source": [
    "class T(Module):\n",
    "    def __init__(self):\n",
    "        self.a = nn.Parameter(torch.ones(3))\n",
    "        \n",
    "L(T().parameters())  "
   ]
  },
  {
   "cell_type": "code",
   "execution_count": 122,
   "id": "ea10b297-c624-4aa2-a59d-b5fd7f149df8",
   "metadata": {},
   "outputs": [
    {
     "data": {
      "text/plain": [
       "Parameter containing:\n",
       "tensor([[ 0.0048, -0.0039,  0.0036],\n",
       "        [-0.0053,  0.0026,  0.0190],\n",
       "        [-0.0113,  0.0128,  0.0038]], requires_grad=True)"
      ]
     },
     "execution_count": 122,
     "metadata": {},
     "output_type": "execute_result"
    }
   ],
   "source": [
    "def create_params(size):\n",
    "    return nn.Parameter(torch.zeros(*size).normal_(0, 0.01))\n",
    "\n",
    "# normal() : 평균 0, 표준편차 0.01 의 분포를 따르는 텐서로 바꿔.\n",
    "# _ 접미사 : 이 연산이 원본 텐서를 변경한다는 것을 나타내.\n",
    "\n",
    "create_params((3,3)) # size는 튜플이나 리스트."
   ]
  },
  {
   "cell_type": "code",
   "execution_count": 123,
   "id": "86580989-294a-4d48-97bc-5a5d753ce11d",
   "metadata": {},
   "outputs": [
    {
     "data": {
      "text/html": [
       "\n",
       "<style>\n",
       "    /* Turns off some styling */\n",
       "    progress {\n",
       "        /* gets rid of default border in Firefox and Opera. */\n",
       "        border: none;\n",
       "        /* Needs to be in here for Safari polyfill so background images work as expected. */\n",
       "        background-size: auto;\n",
       "    }\n",
       "    progress:not([value]), progress:not([value])::-webkit-progress-bar {\n",
       "        background: repeating-linear-gradient(45deg, #7e7e7e, #7e7e7e 10px, #5c5c5c 10px, #5c5c5c 20px);\n",
       "    }\n",
       "    .progress-bar-interrupted, .progress-bar-interrupted::-webkit-progress-bar {\n",
       "        background: #F44336;\n",
       "    }\n",
       "</style>\n"
      ],
      "text/plain": [
       "<IPython.core.display.HTML object>"
      ]
     },
     "metadata": {},
     "output_type": "display_data"
    },
    {
     "data": {
      "text/html": [
       "<table border=\"1\" class=\"dataframe\">\n",
       "  <thead>\n",
       "    <tr style=\"text-align: left;\">\n",
       "      <th>epoch</th>\n",
       "      <th>train_loss</th>\n",
       "      <th>valid_loss</th>\n",
       "      <th>time</th>\n",
       "    </tr>\n",
       "  </thead>\n",
       "  <tbody>\n",
       "    <tr>\n",
       "      <td>0</td>\n",
       "      <td>1.071484</td>\n",
       "      <td>1.049650</td>\n",
       "      <td>00:09</td>\n",
       "    </tr>\n",
       "    <tr>\n",
       "      <td>1</td>\n",
       "      <td>0.895926</td>\n",
       "      <td>0.929110</td>\n",
       "      <td>00:09</td>\n",
       "    </tr>\n",
       "    <tr>\n",
       "      <td>2</td>\n",
       "      <td>0.887334</td>\n",
       "      <td>0.920864</td>\n",
       "      <td>00:09</td>\n",
       "    </tr>\n",
       "  </tbody>\n",
       "</table>"
      ],
      "text/plain": [
       "<IPython.core.display.HTML object>"
      ]
     },
     "metadata": {},
     "output_type": "display_data"
    }
   ],
   "source": [
    "class DotProduct(Module):\n",
    "    def __init__(self, n_users, n_movies, n_factors, y_range=(0, 5.5)):\n",
    "        self.user_factors = create_params((n_users, n_factors))\n",
    "        self.user_bias = create_params((n_users, 1))\n",
    "        self.movie_factors = create_params((n_movies, n_factors))\n",
    "        self.movie_bias = create_params((n_movies, 1))\n",
    "        self.y_range = y_range\n",
    "        \n",
    "    def forward(self, x):\n",
    "        users = self.user_factors[x[:, 0]] # 인덱싱\n",
    "        movies = self.movie_factors[x[:, 1]]\n",
    "        res = (users*movies).sum(dim=1, keepdim=True)\n",
    "        res += self.user_bias[x[:, 0]] + self.movie_bias[x[:, 1]]\n",
    "        return sigmoid_range(res, *self.y_range)\n",
    "    \n",
    "    \n",
    "model = DotProduct(n_users, n_movies, 50)\n",
    "learn = Learner(dls, model, loss_func=MSELossFlat())\n",
    "learn.fit_one_cycle(3, wd=0.1)"
   ]
  },
  {
   "cell_type": "markdown",
   "id": "b1d496b6-2897-480b-b091-650c08409181",
   "metadata": {},
   "source": [
    "**텐서의 인덱싱 (create_params로 생성된 users):**\n",
    "\n",
    "- **대괄호[]** 를 사용해.\n",
    "- 리스트 형태의 인덱스, user_id = [2, 1, 0]를 사용하여 여러 행을 한 번에 인덱싱할 수 있어.\n",
    "- users[user_id]\n",
    "\n",
    "**Embedding 계층의 인덱싱:**\n",
    "- **괄호()** 를 사용하고, 인덱스로 **텐서**를 받아.\n",
    "- users(user_id)"
   ]
  },
  {
   "cell_type": "code",
   "execution_count": 120,
   "id": "fd71e9f4-ee4b-4599-8899-f1770da66a27",
   "metadata": {},
   "outputs": [
    {
     "data": {
      "text/plain": [
       "tensor([-0.0081, -0.0053, -0.0060], grad_fn=<SelectBackward0>)"
      ]
     },
     "execution_count": 120,
     "metadata": {},
     "output_type": "execute_result"
    }
   ],
   "source": [
    "users = create_params((3,3))\n",
    "user_id = [2,1,0] # 인덱스 리스트\n",
    "users[user_id]\n",
    "\n",
    "users[2] # 2번 인덱스 조회"
   ]
  },
  {
   "cell_type": "code",
   "execution_count": 121,
   "id": "414558c5-b2f9-4936-af88-cced69457f70",
   "metadata": {},
   "outputs": [
    {
     "data": {
      "text/plain": [
       "tensor([[-1.7624,  1.0910,  0.1633]], grad_fn=<EmbeddingBackward0>)"
      ]
     },
     "execution_count": 121,
     "metadata": {},
     "output_type": "execute_result"
    }
   ],
   "source": [
    "users = nn.Embedding(3,3)\n",
    "user_id = torch.tensor([2,1,0]) # 인덱스 텐서\n",
    "users(user_id)\n",
    "\n",
    "users(torch.tensor([2])) # 2번 인덱스 조회"
   ]
  }
 ],
 "metadata": {
  "kernelspec": {
   "display_name": "Python 3 (ipykernel)",
   "language": "python",
   "name": "python3"
  },
  "language_info": {
   "codemirror_mode": {
    "name": "ipython",
    "version": 3
   },
   "file_extension": ".py",
   "mimetype": "text/x-python",
   "name": "python",
   "nbconvert_exporter": "python",
   "pygments_lexer": "ipython3",
   "version": "3.9.13"
  }
 },
 "nbformat": 4,
 "nbformat_minor": 5
}
