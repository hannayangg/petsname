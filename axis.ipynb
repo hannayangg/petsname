{
 "cells": [
  {
   "cell_type": "code",
   "execution_count": 77,
   "id": "70ef2b37-8548-4c89-828c-8810488ab4d5",
   "metadata": {},
   "outputs": [],
   "source": [
    "import numpy as np"
   ]
  },
  {
   "cell_type": "code",
   "execution_count": 55,
   "id": "d7606741-a825-4da2-9109-21f4fd1427f7",
   "metadata": {},
   "outputs": [
    {
     "data": {
      "text/plain": [
       "(2, 2, 1)"
      ]
     },
     "execution_count": 55,
     "metadata": {},
     "output_type": "execute_result"
    }
   ],
   "source": [
    "a = np.array([[[1],\n",
    "               [2]],\n",
    "              [[11],\n",
    "               [12]]])\n",
    "a.shape"
   ]
  },
  {
   "cell_type": "code",
   "execution_count": 81,
   "id": "67c32cd6-d006-4a83-a458-33f2b26bdea2",
   "metadata": {},
   "outputs": [
    {
     "data": {
      "text/plain": [
       "(array([[1],\n",
       "        [2]]),\n",
       " array([[11],\n",
       "        [12]]))"
      ]
     },
     "execution_count": 81,
     "metadata": {},
     "output_type": "execute_result"
    }
   ],
   "source": [
    "# 첫 번째 차원 (axis=0)\n",
    "a[0], a[1]"
   ]
  },
  {
   "cell_type": "code",
   "execution_count": 85,
   "id": "c04eebe3-94ea-48a1-a673-9fe1cde028ba",
   "metadata": {},
   "outputs": [
    {
     "data": {
      "text/plain": [
       "array([[6.],\n",
       "       [7.]])"
      ]
     },
     "execution_count": 85,
     "metadata": {},
     "output_type": "execute_result"
    }
   ],
   "source": [
    "# 첫 번째 차원을 기준으로 평균 내기 (axis=0)\n",
    "a.mean(axis=0)"
   ]
  },
  {
   "cell_type": "code",
   "execution_count": 83,
   "id": "1dcc9bb5-0189-4880-b8b3-360fe07f4459",
   "metadata": {},
   "outputs": [
    {
     "data": {
      "text/plain": [
       "(array([[ 1],\n",
       "        [11]]),\n",
       " array([[ 2],\n",
       "        [12]]))"
      ]
     },
     "execution_count": 83,
     "metadata": {},
     "output_type": "execute_result"
    }
   ],
   "source": [
    "# 두 번째 차원 (axis=1)\n",
    "a[:, 0], a[:, 1]"
   ]
  },
  {
   "cell_type": "code",
   "execution_count": 84,
   "id": "47bbf2ee-be98-400b-8d1f-d2a1fa018a3e",
   "metadata": {},
   "outputs": [
    {
     "data": {
      "text/plain": [
       "array([[ 1.5],\n",
       "       [11.5]])"
      ]
     },
     "execution_count": 84,
     "metadata": {},
     "output_type": "execute_result"
    }
   ],
   "source": [
    "# 두 번째 차원을 기준으로 평균 내기 (axis=1)\n",
    "a.mean(axis=1)"
   ]
  },
  {
   "cell_type": "code",
   "execution_count": 76,
   "id": "2fff16c1-3f63-4bc4-97e4-cf2e964cfa6d",
   "metadata": {},
   "outputs": [
    {
     "data": {
      "text/plain": [
       "array([[ 1,  2],\n",
       "       [11, 12]])"
      ]
     },
     "execution_count": 76,
     "metadata": {},
     "output_type": "execute_result"
    }
   ],
   "source": [
    "# 세 번째 차원 (axis=2)\n",
    "a[:, :, 0]"
   ]
  },
  {
   "cell_type": "code",
   "execution_count": 86,
   "id": "baac7b55-aaad-470c-a77e-b8e797cd474a",
   "metadata": {},
   "outputs": [
    {
     "data": {
      "text/plain": [
       "array([[ 1.,  2.],\n",
       "       [11., 12.]])"
      ]
     },
     "execution_count": 86,
     "metadata": {},
     "output_type": "execute_result"
    }
   ],
   "source": [
    "# 세 번째 차원을 기준으로 평균 내기 (axis=2)\n",
    "a.mean(axis=2)"
   ]
  },
  {
   "cell_type": "markdown",
   "id": "b4908d6c-6e10-423d-820f-9b31136f8aaf",
   "metadata": {},
   "source": [
    "직관적으로 그려지지 않지만. <br>\n",
    "첫 번째, 두 번째 차원들을 다 출력해보고. <br>\n",
    "그 출력된 결과를 가지고 평균 구하는 과정을 생각해보면 좀 낫다."
   ]
  },
  {
   "cell_type": "code",
   "execution_count": 120,
   "id": "09687271-805a-4ac5-aeeb-3e6fd3a492f9",
   "metadata": {},
   "outputs": [
    {
     "data": {
      "text/plain": [
       "(2, 3, 2, 2)"
      ]
     },
     "execution_count": 120,
     "metadata": {},
     "output_type": "execute_result"
    }
   ],
   "source": [
    "a = np.array([\n",
    "    # 첫 번째 이미지\n",
    "    [[[1, 2], # R\n",
    "       [3, 4]],\n",
    "      [[5, 6], # G\n",
    "       [7, 8]],\n",
    "      [[9, 10], # B\n",
    "       [11, 12]]],\n",
    "    \n",
    "    # 두 번째 이미지\n",
    "    [[[13, 14], # R\n",
    "       [15, 16]],\n",
    "      [[17, 18], # G\n",
    "       [19, 20]],\n",
    "      [[21, 22], # B\n",
    "       [23, 24]]]\n",
    "    ])\n",
    "\n",
    "a.shape"
   ]
  },
  {
   "cell_type": "code",
   "execution_count": 96,
   "id": "3a1a3354-67e9-46d7-812e-36908f8bcd56",
   "metadata": {},
   "outputs": [
    {
     "data": {
      "text/plain": [
       "(array([[[ 1,  2],\n",
       "         [ 3,  4]],\n",
       " \n",
       "        [[ 5,  6],\n",
       "         [ 7,  8]],\n",
       " \n",
       "        [[ 9, 10],\n",
       "         [11, 12]]]),\n",
       " array([[[13, 14],\n",
       "         [15, 16]],\n",
       " \n",
       "        [[17, 18],\n",
       "         [19, 20]],\n",
       " \n",
       "        [[21, 22],\n",
       "         [23, 24]]]))"
      ]
     },
     "execution_count": 96,
     "metadata": {},
     "output_type": "execute_result"
    }
   ],
   "source": [
    "# 첫 번째 차원 (axis=0)\n",
    "a[0], a[1]"
   ]
  },
  {
   "cell_type": "code",
   "execution_count": 97,
   "id": "64544854-5625-4348-abf3-d7264ced9eb6",
   "metadata": {},
   "outputs": [
    {
     "data": {
      "text/plain": [
       "array([[[ 7.,  8.],\n",
       "        [ 9., 10.]],\n",
       "\n",
       "       [[11., 12.],\n",
       "        [13., 14.]],\n",
       "\n",
       "       [[15., 16.],\n",
       "        [17., 18.]]])"
      ]
     },
     "execution_count": 97,
     "metadata": {},
     "output_type": "execute_result"
    }
   ],
   "source": [
    "# 첫 번째 차원을 기준으로 평균 내기 (axis=0)\n",
    "a.mean(axis=0)"
   ]
  },
  {
   "cell_type": "code",
   "execution_count": 98,
   "id": "afacd86d-215e-4c83-9b40-8402880c8427",
   "metadata": {},
   "outputs": [
    {
     "data": {
      "text/plain": [
       "(array([[[ 1,  2],\n",
       "         [ 3,  4]],\n",
       " \n",
       "        [[13, 14],\n",
       "         [15, 16]]]),\n",
       " array([[[ 5,  6],\n",
       "         [ 7,  8]],\n",
       " \n",
       "        [[17, 18],\n",
       "         [19, 20]]]),\n",
       " array([[[ 9, 10],\n",
       "         [11, 12]],\n",
       " \n",
       "        [[21, 22],\n",
       "         [23, 24]]]))"
      ]
     },
     "execution_count": 98,
     "metadata": {},
     "output_type": "execute_result"
    }
   ],
   "source": [
    "# 두 번째 차원 (axis=1)\n",
    "a[:, 0], a[:, 1], a[:, 2]"
   ]
  },
  {
   "cell_type": "code",
   "execution_count": 99,
   "id": "d14b1f91-e114-434f-9a42-104577ac1541",
   "metadata": {},
   "outputs": [
    {
     "data": {
      "text/plain": [
       "array([[[ 5.,  6.],\n",
       "        [ 7.,  8.]],\n",
       "\n",
       "       [[17., 18.],\n",
       "        [19., 20.]]])"
      ]
     },
     "execution_count": 99,
     "metadata": {},
     "output_type": "execute_result"
    }
   ],
   "source": [
    "# 두 번째 차원을 기준으로 평균 내기 (axis=1)\n",
    "a.mean(axis=1)"
   ]
  },
  {
   "cell_type": "code",
   "execution_count": 100,
   "id": "f8af8602-80d2-4ec8-9401-532cf06813b6",
   "metadata": {},
   "outputs": [
    {
     "data": {
      "text/plain": [
       "(array([[[ 1,  2],\n",
       "         [ 5,  6],\n",
       "         [ 9, 10]],\n",
       " \n",
       "        [[13, 14],\n",
       "         [17, 18],\n",
       "         [21, 22]]]),\n",
       " array([[[ 3,  4],\n",
       "         [ 7,  8],\n",
       "         [11, 12]],\n",
       " \n",
       "        [[15, 16],\n",
       "         [19, 20],\n",
       "         [23, 24]]]))"
      ]
     },
     "execution_count": 100,
     "metadata": {},
     "output_type": "execute_result"
    }
   ],
   "source": [
    "# 세 번째 차원 (axis=2)\n",
    "a[:, :, 0], a[:, :, 1]"
   ]
  },
  {
   "cell_type": "code",
   "execution_count": 101,
   "id": "0b57bc94-ff34-4c5d-a5a5-5ab04192e5ee",
   "metadata": {},
   "outputs": [
    {
     "data": {
      "text/plain": [
       "array([[[ 2.,  3.],\n",
       "        [ 6.,  7.],\n",
       "        [10., 11.]],\n",
       "\n",
       "       [[14., 15.],\n",
       "        [18., 19.],\n",
       "        [22., 23.]]])"
      ]
     },
     "execution_count": 101,
     "metadata": {},
     "output_type": "execute_result"
    }
   ],
   "source": [
    "# 세 번째 차원을 기준으로 평균 내기 (axis=2)\n",
    "a.mean(axis=2)"
   ]
  },
  {
   "cell_type": "code",
   "execution_count": 102,
   "id": "8b6a3ce9-a95c-4ae4-bc31-44a0796d052d",
   "metadata": {},
   "outputs": [
    {
     "data": {
      "text/plain": [
       "(array([[[ 1,  3],\n",
       "         [ 5,  7],\n",
       "         [ 9, 11]],\n",
       " \n",
       "        [[13, 15],\n",
       "         [17, 19],\n",
       "         [21, 23]]]),\n",
       " array([[[ 2,  4],\n",
       "         [ 6,  8],\n",
       "         [10, 12]],\n",
       " \n",
       "        [[14, 16],\n",
       "         [18, 20],\n",
       "         [22, 24]]]))"
      ]
     },
     "execution_count": 102,
     "metadata": {},
     "output_type": "execute_result"
    }
   ],
   "source": [
    "# 네 번째 차원 (axis=3)\n",
    "a[:, :, :, 0], a[:, :, :, 1]"
   ]
  },
  {
   "cell_type": "code",
   "execution_count": 103,
   "id": "fa84fbd8-5200-40cd-8c67-463f82a374d3",
   "metadata": {},
   "outputs": [
    {
     "data": {
      "text/plain": [
       "array([[[ 1.5,  3.5],\n",
       "        [ 5.5,  7.5],\n",
       "        [ 9.5, 11.5]],\n",
       "\n",
       "       [[13.5, 15.5],\n",
       "        [17.5, 19.5],\n",
       "        [21.5, 23.5]]])"
      ]
     },
     "execution_count": 103,
     "metadata": {},
     "output_type": "execute_result"
    }
   ],
   "source": [
    "# 네 번째 차원을 기준으로 평균 내기 (axis=3)\n",
    "a.mean(axis=3)"
   ]
  },
  {
   "cell_type": "code",
   "execution_count": 122,
   "id": "88357270-ed72-4ec0-97b6-3975e1dddfd9",
   "metadata": {},
   "outputs": [
    {
     "data": {
      "text/plain": [
       "array([[11., 12.],\n",
       "       [13., 14.]])"
      ]
     },
     "execution_count": 122,
     "metadata": {},
     "output_type": "execute_result"
    }
   ],
   "source": [
    "# 여러 차원을 함께 고려하여 평균 내기\n",
    "# 이 부분이 이해 안됨\n",
    "\n",
    "a.mean(axis=(0,1))"
   ]
  },
  {
   "cell_type": "code",
   "execution_count": 123,
   "id": "e96ce2cb-5ce0-476f-9949-702490c07537",
   "metadata": {},
   "outputs": [
    {
     "data": {
      "text/plain": [
       "array([ 8.5, 12.5, 16.5])"
      ]
     },
     "execution_count": 123,
     "metadata": {},
     "output_type": "execute_result"
    }
   ],
   "source": [
    "a.mean(axis=(0,2,3))"
   ]
  },
  {
   "cell_type": "code",
   "execution_count": 126,
   "id": "f7a3c272-f93e-4b28-944a-7c9d4ad802cd",
   "metadata": {},
   "outputs": [
    {
     "data": {
      "text/plain": [
       "12.5"
      ]
     },
     "execution_count": 126,
     "metadata": {},
     "output_type": "execute_result"
    }
   ],
   "source": [
    "a.mean(axis=(0,1,2,3))"
   ]
  },
  {
   "cell_type": "code",
   "execution_count": null,
   "id": "853f19de-7feb-46ea-a4fb-6217fbe193d2",
   "metadata": {},
   "outputs": [],
   "source": [
    "# 일단 지금 받아들이는건..\n",
    "# axis=(0,2,3)으로 평균을 내면 [R평균, G평균, B평균]으로 나온다는거...."
   ]
  }
 ],
 "metadata": {
  "kernelspec": {
   "display_name": "Python 3 (ipykernel)",
   "language": "python",
   "name": "python3"
  },
  "language_info": {
   "codemirror_mode": {
    "name": "ipython",
    "version": 3
   },
   "file_extension": ".py",
   "mimetype": "text/x-python",
   "name": "python",
   "nbconvert_exporter": "python",
   "pygments_lexer": "ipython3",
   "version": "3.9.13"
  }
 },
 "nbformat": 4,
 "nbformat_minor": 5
}
